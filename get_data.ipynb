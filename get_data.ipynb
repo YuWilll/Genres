{
 "cells": [
  {
   "cell_type": "code",
   "execution_count": null,
   "metadata": {},
   "outputs": [],
   "source": [
    "import os\n",
    "import spotipy\n",
    "from spotipy.oauth2 import SpotifyClientCredentials\n",
    "import pandas as pd\n",
    "import time\n",
    "\n",
    "client_id = os.getenv('SPOTIFY_CLIENT_ID')\n",
    "client_secret = os.getenv('SPOTIFY_CLIENT_SECRET')\n",
    "auth_manager = SpotifyClientCredentials(client_id=client_id, client_secret=client_secret)\n",
    "sp = spotipy.Spotify(auth_manager=auth_manager)\n",
    "\n",
    "#Change if needed\n",
    "pool_from = ['pop', 'rock', 'hip-hop', 'edm', 'jazz', 'classical', \n",
    "             'country', 'r&b', 'indie', 'blues', 'reggae', 'metal']\n",
    "\n",
    "songs_per = 1000\n",
    "\n",
    "all_songs = []"
   ]
  },
  {
   "cell_type": "code",
   "execution_count": null,
   "metadata": {},
   "outputs": [],
   "source": [
    "#Get audio features from the input track\n",
    "def grab_features(track_id):\n",
    "    audio_features = sp.audio_features(track_id)[0]\n",
    "    return {\n",
    "        'danceability': audio_features['danceability'],\n",
    "        'energy': audio_features['energy'],\n",
    "        'loudness': audio_features['loudness'],\n",
    "        'speechiness': audio_features['speechiness'],\n",
    "        'acousticness': audio_features['acousticness'],\n",
    "        'instrumentalness': audio_features['instrumentalness'],\n",
    "        'valence': audio_features['valence'],\n",
    "        'tempo': audio_features['tempo'],\n",
    "        'key': audio_features['key'],\n",
    "        'mode': audio_features['mode']\n",
    "    }\n",
    "\n",
    "#Get songs by genre\n",
    "def get_songs(genre, limit=50, total_songs=songs_per):\n",
    "    songs = []\n",
    "    offset = 0\n",
    "    while len(songs) < total_songs:\n",
    "        results = sp.search(q=f'genre:{genre}', type='track', limit=limit, offset=offset)\n",
    "        tracks = results['tracks']['items']\n",
    "        for track in tracks:\n",
    "            #audio_feats = grab_features(track[\"id\"])\n",
    "            song_data = {\n",
    "                'name': track['name'],\n",
    "                'artist': ', '.join(artist['name'] for artist in track['artists']),\n",
    "                'id': track['id'],\n",
    "                'release_date': track['album']['release_date'],\n",
    "                'genre': genre,  # Add genre to the song data\n",
    "                #**audio_feats\n",
    "            }\n",
    "            songs.append(song_data)\n",
    "        \n",
    "        offset += limit  # Move to the next batch of results\n",
    "        if len(tracks) < limit:\n",
    "            break  # No more songs to fetch\n",
    "                    \n",
    "    return songs"
   ]
  },
  {
   "cell_type": "code",
   "execution_count": null,
   "metadata": {},
   "outputs": [],
   "source": [
    "for genre in pool_from:\n",
    "    print(f\"Fetching songs for genre: {genre}\")\n",
    "    genre_songs = get_songs(genre=genre, limit=50, total_songs=songs_per)\n",
    "    all_songs.extend(genre_songs)\n",
    "\n",
    "# Convert to DataFrame\n",
    "df_songs = pd.DataFrame(all_songs)\n",
    "\n",
    "# Save to CSV file\n",
    "df_songs.to_csv('small_set.csv', index=False)\n"
   ]
  }
 ],
 "metadata": {
  "kernelspec": {
   "display_name": "Python 3",
   "language": "python",
   "name": "python3"
  },
  "language_info": {
   "codemirror_mode": {
    "name": "ipython",
    "version": 3
   },
   "file_extension": ".py",
   "mimetype": "text/x-python",
   "name": "python",
   "nbconvert_exporter": "python",
   "pygments_lexer": "ipython3",
   "version": "3.11.5"
  }
 },
 "nbformat": 4,
 "nbformat_minor": 2
}
