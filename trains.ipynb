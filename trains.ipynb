{
 "cells": [
  {
   "cell_type": "code",
   "execution_count": null,
   "metadata": {},
   "outputs": [],
   "source": [
    "import pandas as pd\n",
    "import numpy as np\n",
    "from sklearn.model_selection import train_test_split\n",
    "from sklearn.ensemble import RandomForestClassifier\n",
    "from sklearn.multioutput import MultiOutputClassifier\n",
    "from sklearn.metrics import hamming_loss\n",
    "import joblib\n",
    "\n",
    "# Load the dataset\n",
    "file_path = r\"C:\\Users\\wcyuy\\OneDrive\\Desktop\\Prog\\Snakeyboi\\Gamer\\Genre\\dataset.csv\"\n",
    "data = pd.read_csv(file_path)\n",
    "\n",
    "selected_features = [\n",
    "    \"danceability\", \"energy\", \"speechiness\", \"acousticness\",\n",
    "    \"instrumentalness\", \"liveness\", \"valence\", \"tempo\", \"loudness\", \"mode\"\n",
    "]\n",
    "target = \"track_genre\" "
   ]
  },
  {
   "cell_type": "code",
   "execution_count": null,
   "metadata": {},
   "outputs": [],
   "source": [
    "# Group by `track_id` and aggregate genres and audio features\n",
    "grouped_data = data.groupby(\"track_id\").agg({\n",
    "    \"track_genre\": lambda x: list(set(x)),  # Combine genres into a unique list\n",
    "    **{feature: \"mean\" for feature in selected_features}  # Aggregate audio features by mean\n",
    "}).reset_index()\n",
    "\n",
    "# Convert `track_genre` to one-hot encoding (binary columns for each genre)\n",
    "unique_genres = set(genre for genres in grouped_data[\"track_genre\"] for genre in genres)\n",
    "\n",
    "# Efficiently create a binary matrix for genres\n",
    "genre_matrix = pd.DataFrame(\n",
    "    {genre: grouped_data[\"track_genre\"].apply(lambda x: 1 if genre in x else 0) for genre in unique_genres}\n",
    ")\n",
    "\n",
    "# Concatenate the genre matrix with the grouped_data\n",
    "grouped_data = pd.concat([grouped_data, genre_matrix], axis=1)\n",
    "\n",
    "# Count occurrences of each genre\n",
    "genre_counts = grouped_data[list(unique_genres)].sum()\n",
    "\n",
    "# Select the top 15 most popular genres\n",
    "top_15_genres = genre_counts.nlargest(15).index\n"
   ]
  },
  {
   "cell_type": "code",
   "execution_count": null,
   "metadata": {},
   "outputs": [],
   "source": [
    "# Filter the target matrix to include only the top 15 genres\n",
    "y = grouped_data[top_15_genres]\n",
    "\n",
    "# Define X (features)\n",
    "X = grouped_data[selected_features]\n",
    "\n",
    "# Split into training and test sets\n",
    "X_train, X_test, y_train, y_test = train_test_split(X, y, test_size=0.2, random_state=42)\n",
    "\n",
    "# Train a Random Forest for multi-label classification\n",
    "rf_classifier = RandomForestClassifier(n_estimators=100, random_state=42)\n",
    "multi_rf = MultiOutputClassifier(rf_classifier)\n",
    "multi_rf.fit(X_train, y_train)\n",
    "\n",
    "# Predict on the test set\n",
    "y_pred = multi_rf.predict(X_test)\n",
    "\n",
    "# Evaluate with Hamming Loss\n",
    "hamming = hamming_loss(y_test, y_pred)\n",
    "print(f\"Hamming Loss: {hamming:.2f}\")\n",
    "\n",
    "# Evaluate with Exact Match Accuracy (Subset Accuracy)\n",
    "y_pred_array = np.array(y_pred)\n",
    "y_test_array = np.array(y_test)\n",
    "exact_matches = np.all(y_pred_array == y_test_array, axis=1)  # True if all labels match\n",
    "exact_match_accuracy = np.mean(exact_matches)  # Fraction of exact matches\n",
    "print(f\"Exact Match Accuracy (Subset Accuracy): {exact_match_accuracy:.2f}\")"
   ]
  },
  {
   "cell_type": "code",
   "execution_count": null,
   "metadata": {},
   "outputs": [],
   "source": [
    "joblib.dump(multi_rf, 'genre_prediction_model.pkl')\n",
    "print(\"Model saved\")\n",
    "#loaded_model = joblib.load('genre_prediction_model.pkl')\n",
    "#print(\"Model loaded\")\n"
   ]
  }
 ],
 "metadata": {
  "kernelspec": {
   "display_name": "Python 3",
   "language": "python",
   "name": "python3"
  },
  "language_info": {
   "codemirror_mode": {
    "name": "ipython",
    "version": 3
   },
   "file_extension": ".py",
   "mimetype": "text/x-python",
   "name": "python",
   "nbconvert_exporter": "python",
   "pygments_lexer": "ipython3",
   "version": "3.11.5"
  }
 },
 "nbformat": 4,
 "nbformat_minor": 2
}
